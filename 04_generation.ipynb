{
 "cells": [
  {
   "cell_type": "markdown",
   "metadata": {},
   "source": [
    "# Implementing the `MiniBach` model - Part 4"
   ]
  },
  {
   "cell_type": "markdown",
   "metadata": {},
   "source": [
    "In this step, we use the model trained on Part 3 to generate the three lower voices for a given soprano melodic line.\n",
    "\n",
    "The model trained during Part 3 is"
   ]
  },
  {
   "cell_type": "code",
   "execution_count": 115,
   "metadata": {},
   "outputs": [],
   "source": [
    "import tensorflow as tf\n",
    "from tensorflow import keras\n",
    "import numpy as np\n",
    "import pandas as pd\n",
    "import music21"
   ]
  },
  {
   "cell_type": "code",
   "execution_count": 116,
   "metadata": {},
   "outputs": [],
   "source": [
    "model = tf.keras.models.load_model('trained_model.h5')"
   ]
  },
  {
   "cell_type": "code",
   "execution_count": 117,
   "metadata": {},
   "outputs": [],
   "source": [
    "given_melody = '''\n",
    "C4   --   --   --   |G4   --   --   --   |C4   --   D4   --   |C4   --   --   --   |\n",
    "E4   --   --   --   |--   --   --   --   |F4   --   --   --   |--   --   --   --   |\n",
    "G4   --   --   --   |--   --   --   --   |C4   --   --   --   |--   --   --   --   |\n",
    "D4   --   --   --   |--   --   --   --   |--   --   --   --   |--   --   --   --   |\n",
    "'''"
   ]
  },
  {
   "cell_type": "code",
   "execution_count": 118,
   "metadata": {},
   "outputs": [],
   "source": [
    "given_melody = given_melody.replace('\\n', '').replace('|', '')"
   ]
  },
  {
   "cell_type": "code",
   "execution_count": 119,
   "metadata": {},
   "outputs": [],
   "source": [
    "tokens = given_melody.split()"
   ]
  },
  {
   "cell_type": "code",
   "execution_count": 120,
   "metadata": {},
   "outputs": [],
   "source": [
    "SOPRANO_MIN = 57\n",
    "SOPRANO_MAX = 81\n",
    "\n",
    "ALTO_MIN = 52\n",
    "ALTO_MAX = 74\n",
    "\n",
    "TENOR_MIN = 48\n",
    "TENOR_MAX = 69\n",
    "\n",
    "BASS_MIN = 36\n",
    "BASS_MAX = 64\n",
    "\n",
    "ranges = {\n",
    "    'soprano': {midinumber: (midinumber - SOPRANO_MIN + 1) for midinumber in range(SOPRANO_MIN, SOPRANO_MAX + 1)},\n",
    "    'alto': {midinumber: (midinumber - ALTO_MIN + 1) for midinumber in range(ALTO_MIN, ALTO_MAX + 1)},\n",
    "    'tenor': {midinumber: (midinumber - TENOR_MIN + 1) for midinumber in range(TENOR_MIN, TENOR_MAX + 1)},\n",
    "    'bass': {midinumber: (midinumber - BASS_MIN + 1) for midinumber in range(BASS_MIN, BASS_MAX + 1)},\n",
    "}\n",
    "\n",
    "reverse_ranges = {\n",
    "    'soprano': {(midinumber - SOPRANO_MIN + 1): midinumber for midinumber in range(SOPRANO_MIN, SOPRANO_MAX + 1)},\n",
    "    'alto': {(midinumber - ALTO_MIN + 1): midinumber for midinumber in range(ALTO_MIN, ALTO_MAX + 1)},\n",
    "    'tenor': {(midinumber - TENOR_MIN + 1): midinumber for midinumber in range(TENOR_MIN, TENOR_MAX + 1)},\n",
    "    'bass': {(midinumber - BASS_MIN + 1): midinumber for midinumber in range(BASS_MIN, BASS_MAX + 1)},\n",
    "}"
   ]
  },
  {
   "cell_type": "code",
   "execution_count": 121,
   "metadata": {},
   "outputs": [],
   "source": [
    "def encode_note(n, rang):\n",
    "    if n == '--' or n == 'Rest':\n",
    "        ret = 0\n",
    "    else:\n",
    "        note = music21.note.Note(n)\n",
    "        ret = ranges[rang][note.pitch.midi]\n",
    "    return ret\n",
    "\n",
    "def one_hot_encode(idx, rang):\n",
    "    length = len(ranges[rang].values())\n",
    "    ret = [0] * (length + 1)\n",
    "    ret[idx] = 1\n",
    "    return ret"
   ]
  },
  {
   "cell_type": "code",
   "execution_count": 123,
   "metadata": {},
   "outputs": [],
   "source": [
    "s = [encode_note(n, 'soprano') for n in tokens] \n",
    "x = np.array([[one_hot_encode(idx, 'soprano') for idx in s]])    \n",
    "x = x.reshape(1, -1)"
   ]
  },
  {
   "cell_type": "code",
   "execution_count": 124,
   "metadata": {},
   "outputs": [],
   "source": [
    "predictions = model.predict(x)\n",
    "\n",
    "predictions = predictions.reshape(-1)\n",
    "\n",
    "soprano = x.reshape(64, -1)\n",
    "alto = predictions[:1536].reshape(64, -1)\n",
    "tenor = predictions[1536:3008].reshape(64, -1)\n",
    "bass = predictions[3008:4928].reshape(64, -1)"
   ]
  },
  {
   "cell_type": "code",
   "execution_count": 125,
   "metadata": {},
   "outputs": [],
   "source": [
    "def decode_note(n, rang):\n",
    "    if n == 0:\n",
    "        ret = '--'\n",
    "    else:\n",
    "        note = music21.note.Note(type='16th')        \n",
    "        note.pitch.midi = reverse_ranges[rang][n]        \n",
    "        ret = note\n",
    "    return ret"
   ]
  },
  {
   "cell_type": "code",
   "execution_count": 126,
   "metadata": {},
   "outputs": [],
   "source": [
    "generation = {\n",
    "    'soprano': [],\n",
    "    'alto': [],\n",
    "    'tenor': [],\n",
    "    'bass': []\n",
    "}\n",
    "\n",
    "for sixteenth in range(64):\n",
    "    soprano_note = decode_note(np.argmax(soprano[sixteenth]), 'soprano')\n",
    "    if soprano_note == '--':\n",
    "        last_note = generation['soprano'][-1]\n",
    "        soprano_note = music21.note.Note(last_note.pitch.nameWithOctave, type='16th')\n",
    "        if last_note.tie:\n",
    "            soprano_note.tie = music21.tie.Tie('continue')\n",
    "        else:\n",
    "            last_note.tie = music21.tie.Tie('start')\n",
    "            generation['soprano'][-1] = last_note\n",
    "            soprano_note.tie = music21.tie.Tie('continue')\n",
    "    else:\n",
    "        if sixteenth > 0:\n",
    "            last_note = generation['soprano'][-1]\n",
    "            if last_note.tie:\n",
    "                last_note.tie.type = 'end'\n",
    "    generation['soprano'].append(soprano_note)\n",
    "    \n",
    "    alto_note = decode_note(np.argmax(alto[sixteenth]), 'alto')\n",
    "    if alto_note == '--':\n",
    "        last_note = generation['alto'][-1]\n",
    "        alto_note = music21.note.Note(last_note.pitch.nameWithOctave, type='16th')\n",
    "        if last_note.tie:\n",
    "            alto_note.tie = music21.tie.Tie('continue')\n",
    "        else:\n",
    "            last_note.tie = music21.tie.Tie('start')\n",
    "            generation['alto'][-1] = last_note\n",
    "            alto_note.tie = music21.tie.Tie('continue')\n",
    "    else:\n",
    "        if sixteenth > 0:\n",
    "            last_note = generation['alto'][-1]\n",
    "            if last_note.tie:\n",
    "                last_note.tie.type = 'end'\n",
    "    generation['alto'].append(alto_note)\n",
    "    \n",
    "    tenor_note = decode_note(np.argmax(tenor[sixteenth]), 'tenor')\n",
    "    if tenor_note == '--':\n",
    "        last_note = generation['tenor'][-1]\n",
    "        tenor_note = music21.note.Note(last_note.pitch.nameWithOctave, type='16th')\n",
    "        if last_note.tie:\n",
    "            tenor_note.tie = music21.tie.Tie('continue')\n",
    "        else:\n",
    "            last_note.tie = music21.tie.Tie('start')\n",
    "            generation['tenor'][-1] = last_note\n",
    "            tenor_note.tie = music21.tie.Tie('continue')\n",
    "    else:\n",
    "        if sixteenth > 0:\n",
    "            last_note = generation['alto'][-1]\n",
    "            if last_note.tie:\n",
    "                last_note.tie.type = 'end'\n",
    "    generation['tenor'].append(tenor_note)\n",
    "    \n",
    "    bass_note = decode_note(np.argmax(bass[sixteenth]), 'bass')\n",
    "    if bass_note == '--':\n",
    "        last_note = generation['bass'][-1]\n",
    "        bass_note = music21.note.Note(last_note.pitch.nameWithOctave, type='16th')\n",
    "        if last_note.tie:\n",
    "            bass_note.tie = music21.tie.Tie('continue')\n",
    "        else:\n",
    "            last_note.tie = music21.tie.Tie('start')\n",
    "            generation['bass'][-1] = last_note\n",
    "            bass_note.tie = music21.tie.Tie('continue')\n",
    "    else:\n",
    "        if sixteenth > 0:\n",
    "            last_note = generation['bass'][-1]\n",
    "            if last_note.tie:\n",
    "                last_note.tie.type = 'end'\n",
    "    generation['bass'].append(bass_note)        "
   ]
  },
  {
   "cell_type": "code",
   "execution_count": 127,
   "metadata": {},
   "outputs": [],
   "source": [
    "df = pd.DataFrame(generation)"
   ]
  },
  {
   "cell_type": "code",
   "execution_count": 128,
   "metadata": {},
   "outputs": [
    {
     "data": {
      "text/html": [
       "<div>\n",
       "<style scoped>\n",
       "    .dataframe tbody tr th:only-of-type {\n",
       "        vertical-align: middle;\n",
       "    }\n",
       "\n",
       "    .dataframe tbody tr th {\n",
       "        vertical-align: top;\n",
       "    }\n",
       "\n",
       "    .dataframe thead th {\n",
       "        text-align: right;\n",
       "    }\n",
       "</style>\n",
       "<table border=\"1\" class=\"dataframe\">\n",
       "  <thead>\n",
       "    <tr style=\"text-align: right;\">\n",
       "      <th></th>\n",
       "      <th>soprano</th>\n",
       "      <th>alto</th>\n",
       "      <th>tenor</th>\n",
       "      <th>bass</th>\n",
       "    </tr>\n",
       "  </thead>\n",
       "  <tbody>\n",
       "    <tr>\n",
       "      <th>0</th>\n",
       "      <td>&lt;music21.note.Note C&gt;</td>\n",
       "      <td>&lt;music21.note.Note E&gt;</td>\n",
       "      <td>&lt;music21.note.Note A&gt;</td>\n",
       "      <td>&lt;music21.note.Note C&gt;</td>\n",
       "    </tr>\n",
       "    <tr>\n",
       "      <th>1</th>\n",
       "      <td>&lt;music21.note.Note C&gt;</td>\n",
       "      <td>&lt;music21.note.Note E&gt;</td>\n",
       "      <td>&lt;music21.note.Note A&gt;</td>\n",
       "      <td>&lt;music21.note.Note C&gt;</td>\n",
       "    </tr>\n",
       "    <tr>\n",
       "      <th>2</th>\n",
       "      <td>&lt;music21.note.Note C&gt;</td>\n",
       "      <td>&lt;music21.note.Note E&gt;</td>\n",
       "      <td>&lt;music21.note.Note A&gt;</td>\n",
       "      <td>&lt;music21.note.Note C&gt;</td>\n",
       "    </tr>\n",
       "    <tr>\n",
       "      <th>3</th>\n",
       "      <td>&lt;music21.note.Note C&gt;</td>\n",
       "      <td>&lt;music21.note.Note E&gt;</td>\n",
       "      <td>&lt;music21.note.Note A&gt;</td>\n",
       "      <td>&lt;music21.note.Note C&gt;</td>\n",
       "    </tr>\n",
       "    <tr>\n",
       "      <th>4</th>\n",
       "      <td>&lt;music21.note.Note G&gt;</td>\n",
       "      <td>&lt;music21.note.Note G&gt;</td>\n",
       "      <td>&lt;music21.note.Note C&gt;</td>\n",
       "      <td>&lt;music21.note.Note D&gt;</td>\n",
       "    </tr>\n",
       "    <tr>\n",
       "      <th>...</th>\n",
       "      <td>...</td>\n",
       "      <td>...</td>\n",
       "      <td>...</td>\n",
       "      <td>...</td>\n",
       "    </tr>\n",
       "    <tr>\n",
       "      <th>59</th>\n",
       "      <td>&lt;music21.note.Note D&gt;</td>\n",
       "      <td>&lt;music21.note.Note D&gt;</td>\n",
       "      <td>&lt;music21.note.Note A&gt;</td>\n",
       "      <td>&lt;music21.note.Note D&gt;</td>\n",
       "    </tr>\n",
       "    <tr>\n",
       "      <th>60</th>\n",
       "      <td>&lt;music21.note.Note D&gt;</td>\n",
       "      <td>&lt;music21.note.Note D&gt;</td>\n",
       "      <td>&lt;music21.note.Note A&gt;</td>\n",
       "      <td>&lt;music21.note.Note D&gt;</td>\n",
       "    </tr>\n",
       "    <tr>\n",
       "      <th>61</th>\n",
       "      <td>&lt;music21.note.Note D&gt;</td>\n",
       "      <td>&lt;music21.note.Note D&gt;</td>\n",
       "      <td>&lt;music21.note.Note A&gt;</td>\n",
       "      <td>&lt;music21.note.Note D&gt;</td>\n",
       "    </tr>\n",
       "    <tr>\n",
       "      <th>62</th>\n",
       "      <td>&lt;music21.note.Note D&gt;</td>\n",
       "      <td>&lt;music21.note.Note D&gt;</td>\n",
       "      <td>&lt;music21.note.Note A&gt;</td>\n",
       "      <td>&lt;music21.note.Note D&gt;</td>\n",
       "    </tr>\n",
       "    <tr>\n",
       "      <th>63</th>\n",
       "      <td>&lt;music21.note.Note D&gt;</td>\n",
       "      <td>&lt;music21.note.Note D&gt;</td>\n",
       "      <td>&lt;music21.note.Note A&gt;</td>\n",
       "      <td>&lt;music21.note.Note D&gt;</td>\n",
       "    </tr>\n",
       "  </tbody>\n",
       "</table>\n",
       "<p>64 rows × 4 columns</p>\n",
       "</div>"
      ],
      "text/plain": [
       "                  soprano                   alto                  tenor  \\\n",
       "0   <music21.note.Note C>  <music21.note.Note E>  <music21.note.Note A>   \n",
       "1   <music21.note.Note C>  <music21.note.Note E>  <music21.note.Note A>   \n",
       "2   <music21.note.Note C>  <music21.note.Note E>  <music21.note.Note A>   \n",
       "3   <music21.note.Note C>  <music21.note.Note E>  <music21.note.Note A>   \n",
       "4   <music21.note.Note G>  <music21.note.Note G>  <music21.note.Note C>   \n",
       "..                    ...                    ...                    ...   \n",
       "59  <music21.note.Note D>  <music21.note.Note D>  <music21.note.Note A>   \n",
       "60  <music21.note.Note D>  <music21.note.Note D>  <music21.note.Note A>   \n",
       "61  <music21.note.Note D>  <music21.note.Note D>  <music21.note.Note A>   \n",
       "62  <music21.note.Note D>  <music21.note.Note D>  <music21.note.Note A>   \n",
       "63  <music21.note.Note D>  <music21.note.Note D>  <music21.note.Note A>   \n",
       "\n",
       "                     bass  \n",
       "0   <music21.note.Note C>  \n",
       "1   <music21.note.Note C>  \n",
       "2   <music21.note.Note C>  \n",
       "3   <music21.note.Note C>  \n",
       "4   <music21.note.Note D>  \n",
       "..                    ...  \n",
       "59  <music21.note.Note D>  \n",
       "60  <music21.note.Note D>  \n",
       "61  <music21.note.Note D>  \n",
       "62  <music21.note.Note D>  \n",
       "63  <music21.note.Note D>  \n",
       "\n",
       "[64 rows x 4 columns]"
      ]
     },
     "execution_count": 128,
     "metadata": {},
     "output_type": "execute_result"
    }
   ],
   "source": [
    "df"
   ]
  },
  {
   "cell_type": "code",
   "execution_count": 129,
   "metadata": {},
   "outputs": [],
   "source": [
    "s = music21.stream.Stream()\n",
    "s.append(df.soprano.to_list())\n",
    "a = music21.stream.Stream()\n",
    "a.append(df.alto.to_list())\n",
    "t = music21.stream.Stream()\n",
    "t.append(df.tenor.to_list())\n",
    "b = music21.stream.Stream()\n",
    "b.append(df.bass.to_list())\n",
    "stream = music21.stream.Stream([s,a,t,b])"
   ]
  },
  {
   "cell_type": "code",
   "execution_count": 130,
   "metadata": {},
   "outputs": [
    {
     "data": {
      "text/plain": [
       "'/home/napulen/dev/MiniBach/here.musicxml'"
      ]
     },
     "execution_count": 130,
     "metadata": {},
     "output_type": "execute_result"
    }
   ],
   "source": [
    "stream.write('musicxml', 'here.musicxml')"
   ]
  },
  {
   "cell_type": "code",
   "execution_count": null,
   "metadata": {},
   "outputs": [],
   "source": []
  }
 ],
 "metadata": {
  "kernelspec": {
   "display_name": "Python 3.8.2 64-bit",
   "language": "python",
   "name": "python38264bit3096ab794bfa49e88dd2c11f522e534a"
  },
  "language_info": {
   "codemirror_mode": {
    "name": "ipython",
    "version": 3
   },
   "file_extension": ".py",
   "mimetype": "text/x-python",
   "name": "python",
   "nbconvert_exporter": "python",
   "pygments_lexer": "ipython3",
   "version": "3.8.2"
  }
 },
 "nbformat": 4,
 "nbformat_minor": 4
}
